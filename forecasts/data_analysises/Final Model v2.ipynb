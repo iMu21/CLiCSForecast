{
 "cells": [
  {
   "cell_type": "code",
   "execution_count": 45,
   "id": "37f309fa-260d-40c5-ab60-3ccece49b21a",
   "metadata": {},
   "outputs": [],
   "source": [
    "import pandas as pd\n",
    "file_path = \"../data_analysis_reports/Sample_Data.xlsx\"\n",
    "data = pd.read_excel(file_path)\n",
    "#data"
   ]
  },
  {
   "cell_type": "code",
   "execution_count": 46,
   "id": "46b0f5b7-b758-4618-b22a-8d1bc9724cd4",
   "metadata": {},
   "outputs": [
    {
     "data": {
      "text/plain": [
       "(56, 23)"
      ]
     },
     "execution_count": 46,
     "metadata": {},
     "output_type": "execute_result"
    }
   ],
   "source": [
    "data = data.drop(columns=['ActiveWeight_P20', 'ActiveWeight_P2','ActiveWeight_P9','ActiveWeight_P14',\"Year\",\"Month\"])\n",
    "\n",
    "data=data.drop(index=6)\n",
    "data.shape"
   ]
  },
  {
   "cell_type": "code",
   "execution_count": 47,
   "id": "c04ab0c1",
   "metadata": {},
   "outputs": [],
   "source": [
    "test=data.iloc[[-1]]\n",
    "#test"
   ]
  },
  {
   "cell_type": "code",
   "execution_count": 48,
   "id": "5be3af6b",
   "metadata": {},
   "outputs": [],
   "source": [
    "# Dropping rows with null values in 'Payment Amount'\n",
    "data= data.dropna(subset=['Payment Amount'])\n",
    "#data"
   ]
  },
  {
   "cell_type": "code",
   "execution_count": 49,
   "id": "40499165",
   "metadata": {},
   "outputs": [],
   "source": [
    "from sklearn.model_selection import train_test_split\n",
    "from sklearn.preprocessing import StandardScaler\n",
    "from sklearn.metrics import mean_absolute_error, mean_squared_error, r2_score\n",
    "import numpy as np"
   ]
  },
  {
   "cell_type": "code",
   "execution_count": 50,
   "id": "5f35197f",
   "metadata": {},
   "outputs": [],
   "source": [
    "import matplotlib.pyplot as plt\n",
    "import seaborn as sns\n",
    "#correlation_matrix = data.corr()\n",
    "\n",
    "# Plotting the correlation heatmap\n",
    "#plt.figure(figsize=(15, 10))\n",
    "#sns.heatmap(correlation_matrix, annot=True, cmap='coolwarm', fmt=\".2f\")\n",
    "#plt.title('Correlation Heatmap Showing Relationship with Payment Amount')\n",
    "#plt.show()"
   ]
  },
  {
   "cell_type": "code",
   "execution_count": 51,
   "id": "4963e308",
   "metadata": {},
   "outputs": [
    {
     "data": {
      "text/plain": [
       "InsuredCount        0\n",
       "ChildLessThan18     0\n",
       "AdultLessThan40     0\n",
       "MiddleLessThan55    0\n",
       "OldGreaterThan55    0\n",
       "ActiveWeight_P1     0\n",
       "ActiveWeight_P3     0\n",
       "ActiveWeight_P4     0\n",
       "ActiveWeight_P5     0\n",
       "ActiveWeight_P6     0\n",
       "ActiveWeight_P7     0\n",
       "ActiveWeight_P8     0\n",
       "ActiveWeight_P10    0\n",
       "ActiveWeight_P11    0\n",
       "ActiveWeight_P12    0\n",
       "ActiveWeight_P13    0\n",
       "ActiveWeight_P15    0\n",
       "ActiveWeight_P16    0\n",
       "ActiveWeight_P17    0\n",
       "ActiveWeight_P18    0\n",
       "ActiveWeight_P19    0\n",
       "ActiveWeight_P21    0\n",
       "Payment Amount      0\n",
       "dtype: int64"
      ]
     },
     "execution_count": 51,
     "metadata": {},
     "output_type": "execute_result"
    }
   ],
   "source": [
    "missing_values = data.isnull().sum()\n",
    "missing_values"
   ]
  },
  {
   "cell_type": "code",
   "execution_count": 52,
   "id": "65022b8f",
   "metadata": {},
   "outputs": [],
   "source": [
    "X = data.drop(columns=[\"Payment Amount\"])\n",
    "y = data[[\"Payment Amount\"]]"
   ]
  },
  {
   "cell_type": "code",
   "execution_count": 53,
   "id": "9c1465bd",
   "metadata": {},
   "outputs": [
    {
     "data": {
      "text/plain": [
       "(InsuredCount        0\n",
       " ChildLessThan18     0\n",
       " AdultLessThan40     0\n",
       " MiddleLessThan55    0\n",
       " OldGreaterThan55    0\n",
       " ActiveWeight_P1     0\n",
       " ActiveWeight_P3     0\n",
       " ActiveWeight_P4     0\n",
       " ActiveWeight_P5     0\n",
       " ActiveWeight_P6     0\n",
       " ActiveWeight_P7     0\n",
       " ActiveWeight_P8     0\n",
       " ActiveWeight_P10    0\n",
       " ActiveWeight_P11    0\n",
       " ActiveWeight_P12    0\n",
       " ActiveWeight_P13    0\n",
       " ActiveWeight_P15    0\n",
       " ActiveWeight_P16    0\n",
       " ActiveWeight_P17    0\n",
       " ActiveWeight_P18    0\n",
       " ActiveWeight_P19    0\n",
       " ActiveWeight_P21    0\n",
       " Payment Amount      0\n",
       " dtype: int64,\n",
       " (39, 22),\n",
       " (10, 22),\n",
       " (39, 1),\n",
       " (10, 1))"
      ]
     },
     "execution_count": 53,
     "metadata": {},
     "output_type": "execute_result"
    }
   ],
   "source": [
    "X_train, X_test, y_train, y_test = train_test_split(X, y, test_size=0.2, random_state=42)\n",
    "\n",
    "# Feature Scaling\n",
    "scaler = StandardScaler()\n",
    "X_train_scaled = scaler.fit_transform(X_train)\n",
    "X_test_scaled = scaler.transform(X_test)\n",
    "\n",
    "missing_values, X_train_scaled.shape, X_test_scaled.shape, y_train.shape, y_test.shape"
   ]
  },
  {
   "cell_type": "code",
   "execution_count": 54,
   "id": "d0f1e292",
   "metadata": {},
   "outputs": [],
   "source": [
    "from sklearn.linear_model import LinearRegression\n",
    "from sklearn.metrics import mean_squared_error, mean_absolute_error, r2_score\n",
    "\n",
    "# Function to train and evaluate a model\n",
    "def train_and_evaluate_model(model, X_train, y_train, X_test, y_test):\n",
    "    # Training the model\n",
    "    model.fit(X_train, y_train)\n",
    "\n",
    "    # Predicting on the test set\n",
    "    y_pred = model.predict(X_test)\n",
    "\n",
    "    # Evaluating the model    \n",
    "    r2 = r2_score(y_test, y_pred)\n",
    "\n",
    "    return r2"
   ]
  },
  {
   "cell_type": "code",
   "execution_count": 55,
   "id": "9f9ef6dc",
   "metadata": {},
   "outputs": [
    {
     "data": {
      "text/plain": [
       "0.8082454360581095"
      ]
     },
     "execution_count": 55,
     "metadata": {},
     "output_type": "execute_result"
    }
   ],
   "source": [
    "# Linear Regression Model\n",
    "linear_model = LinearRegression()\n",
    "\n",
    "# Train and evaluate the Linear Regression model\n",
    "linear_r2 = train_and_evaluate_model(linear_model, X_train_scaled, y_train, X_test_scaled, y_test)\n",
    "\n",
    "linear_r2\n"
   ]
  },
  {
   "cell_type": "code",
   "execution_count": 56,
   "id": "3b136ce9",
   "metadata": {},
   "outputs": [
    {
     "data": {
      "text/plain": [
       "0.7815587609470134"
      ]
     },
     "execution_count": 56,
     "metadata": {},
     "output_type": "execute_result"
    }
   ],
   "source": [
    "from sklearn.multioutput import MultiOutputRegressor\n",
    "from sklearn.ensemble import GradientBoostingRegressor\n",
    "# MultiOutputRegressor with Gradient Boosting\n",
    "multioutput_gb_model = MultiOutputRegressor(GradientBoostingRegressor(random_state=42))\n",
    "\n",
    "# Train and evaluate the MultiOutput Gradient Boosting model\n",
    "gb_multi_r2 = train_and_evaluate_model(multioutput_gb_model, X_train_scaled, y_train, X_test_scaled, y_test)\n",
    "\n",
    "gb_multi_r2"
   ]
  },
  {
   "cell_type": "code",
   "execution_count": 57,
   "id": "593939db",
   "metadata": {},
   "outputs": [
    {
     "data": {
      "text/html": [
       "<div>\n",
       "<style scoped>\n",
       "    .dataframe tbody tr th:only-of-type {\n",
       "        vertical-align: middle;\n",
       "    }\n",
       "\n",
       "    .dataframe tbody tr th {\n",
       "        vertical-align: top;\n",
       "    }\n",
       "\n",
       "    .dataframe thead th {\n",
       "        text-align: right;\n",
       "    }\n",
       "</style>\n",
       "<table border=\"1\" class=\"dataframe\">\n",
       "  <thead>\n",
       "    <tr style=\"text-align: right;\">\n",
       "      <th></th>\n",
       "      <th>InsuredCount</th>\n",
       "      <th>ChildLessThan18</th>\n",
       "      <th>AdultLessThan40</th>\n",
       "      <th>MiddleLessThan55</th>\n",
       "      <th>OldGreaterThan55</th>\n",
       "      <th>ActiveWeight_P1</th>\n",
       "      <th>ActiveWeight_P3</th>\n",
       "      <th>ActiveWeight_P4</th>\n",
       "      <th>ActiveWeight_P5</th>\n",
       "      <th>ActiveWeight_P6</th>\n",
       "      <th>...</th>\n",
       "      <th>ActiveWeight_P11</th>\n",
       "      <th>ActiveWeight_P12</th>\n",
       "      <th>ActiveWeight_P13</th>\n",
       "      <th>ActiveWeight_P15</th>\n",
       "      <th>ActiveWeight_P16</th>\n",
       "      <th>ActiveWeight_P17</th>\n",
       "      <th>ActiveWeight_P18</th>\n",
       "      <th>ActiveWeight_P19</th>\n",
       "      <th>ActiveWeight_P21</th>\n",
       "      <th>Payment Amount</th>\n",
       "    </tr>\n",
       "  </thead>\n",
       "  <tbody>\n",
       "    <tr>\n",
       "      <th>56</th>\n",
       "      <td>286376</td>\n",
       "      <td>42845</td>\n",
       "      <td>181428</td>\n",
       "      <td>56136</td>\n",
       "      <td>5964</td>\n",
       "      <td>5502624</td>\n",
       "      <td>1010818</td>\n",
       "      <td>826080</td>\n",
       "      <td>776490</td>\n",
       "      <td>2130510</td>\n",
       "      <td>...</td>\n",
       "      <td>155780</td>\n",
       "      <td>162560</td>\n",
       "      <td>3174290</td>\n",
       "      <td>132420</td>\n",
       "      <td>259610</td>\n",
       "      <td>2798850</td>\n",
       "      <td>2798820</td>\n",
       "      <td>1810170</td>\n",
       "      <td>659340</td>\n",
       "      <td>NaN</td>\n",
       "    </tr>\n",
       "  </tbody>\n",
       "</table>\n",
       "<p>1 rows × 23 columns</p>\n",
       "</div>"
      ],
      "text/plain": [
       "    InsuredCount  ChildLessThan18  AdultLessThan40  MiddleLessThan55  \\\n",
       "56        286376            42845           181428             56136   \n",
       "\n",
       "    OldGreaterThan55  ActiveWeight_P1  ActiveWeight_P3  ActiveWeight_P4  \\\n",
       "56              5964          5502624          1010818           826080   \n",
       "\n",
       "    ActiveWeight_P5  ActiveWeight_P6  ...  ActiveWeight_P11  ActiveWeight_P12  \\\n",
       "56           776490          2130510  ...            155780            162560   \n",
       "\n",
       "    ActiveWeight_P13  ActiveWeight_P15  ActiveWeight_P16  ActiveWeight_P17  \\\n",
       "56           3174290            132420            259610           2798850   \n",
       "\n",
       "    ActiveWeight_P18  ActiveWeight_P19  ActiveWeight_P21  Payment Amount  \n",
       "56           2798820           1810170            659340             NaN  \n",
       "\n",
       "[1 rows x 23 columns]"
      ]
     },
     "execution_count": 57,
     "metadata": {},
     "output_type": "execute_result"
    }
   ],
   "source": [
    "test"
   ]
  },
  {
   "cell_type": "code",
   "execution_count": 58,
   "id": "617d3572",
   "metadata": {},
   "outputs": [],
   "source": [
    "# Extract the last row from the original data\n",
    "\n",
    "#last_row = data.iloc[[-1]]\n",
    "\n",
    "last_row = test\n",
    "\n",
    "\n",
    "# Drop the target column from the last row\n",
    "X_last_row = last_row.drop(columns=[\"Payment Amount\"])\n",
    "\n",
    "# Scale the features of the last row using the same scaler\n",
    "X_last_row_scaled = scaler.transform(X_last_row)\n",
    "\n",
    "\n",
    "claim_amount_prediction_linear = linear_model.predict(X_last_row_scaled)\n",
    "claim_amount_prediction_gb_multi = multioutput_gb_model.predict(X_last_row_scaled)"
   ]
  },
  {
   "cell_type": "code",
   "execution_count": 59,
   "id": "5ba3f377",
   "metadata": {},
   "outputs": [
    {
     "name": "stdout",
     "output_type": "stream",
     "text": [
      "Predicted claim amount using Linear Regression: 86,721,955.91\n",
      "Predicted claim amount using MultiOutput Gradient Boosting: 63,958,167.36\n"
     ]
    }
   ],
   "source": [
    "# Predicted claim amount using Linear Regression\n",
    "claim_amount_prediction_linear_str = \"{:,.2f}\".format(claim_amount_prediction_linear[0][0])\n",
    "print(\"Predicted claim amount using Linear Regression:\", claim_amount_prediction_linear_str)\n",
    "\n",
    "# Predicted claim amount using MultiOutput Gradient Boosting\n",
    "claim_amount_prediction_gb_multi_str = \"{:,.2f}\".format(claim_amount_prediction_gb_multi[0][0])\n",
    "print(\"Predicted claim amount using MultiOutput Gradient Boosting:\", claim_amount_prediction_gb_multi_str)\n"
   ]
  },
  {
   "cell_type": "code",
   "execution_count": 60,
   "id": "ea7afd9a",
   "metadata": {
    "scrolled": true
   },
   "outputs": [
    {
     "data": {
      "image/png": "[encoded data removed]",
      "text/plain": [
       "<Figure size 640x480 with 1 Axes>"
      ]
     },
     "metadata": {},
     "output_type": "display_data"
    },
    {
     "name": "stdout",
     "output_type": "stream",
     "text": [
      "Actual Claim Amount: nan\n",
      "Predicted Claim Amount: 63958167.363921136\n",
      "Absolute difference: nan\n"
     ]
    }
   ],
   "source": [
    "import matplotlib.pyplot as plt\n",
    "\n",
    "# Actual claim amount from the last row\n",
    "actual_claim_amount = last_row[\"Payment Amount\"].values[0]\n",
    "\n",
    "# Predicted claim amount using Gradient Boosting\n",
    "predicted_claim_amount_gb = claim_amount_prediction_gb_multi[0][0]\n",
    "\n",
    "# Calculate the absolute difference\n",
    "difference = abs(actual_claim_amount - predicted_claim_amount_gb)\n",
    "\n",
    "# Plotting the comparison\n",
    "labels = ['Actual Claim Amount', 'Predicted Claim Amount (Gradient Boosting)']\n",
    "values = [actual_claim_amount, predicted_claim_amount_gb]\n",
    "\n",
    "plt.bar(labels, values, color=['blue', 'green', 'red'])\n",
    "plt.ylabel('Claim Amount')\n",
    "plt.title('Comparison of Actual and Predicted Claim Amounts')\n",
    "plt.show()\n",
    "\n",
    "print(\"Actual Claim Amount:\", actual_claim_amount)\n",
    "print(\"Predicted Claim Amount:\", predicted_claim_amount_gb)\n",
    "print(\"Absolute difference:\", difference)\n"
   ]
  },
  {
   "cell_type": "code",
   "execution_count": 61,
   "id": "51d236a5-5f86-4138-8903-b837eb6525a4",
   "metadata": {},
   "outputs": [],
   "source": [
    "import pickle"
   ]
  },
  {
   "cell_type": "code",
   "execution_count": 62,
   "id": "9a8b3694-097a-448a-8aad-3f0423a3d2cb",
   "metadata": {},
   "outputs": [],
   "source": [
    "with open('multioutput_gb_model.pkl','wb') as file:\n",
    "    pickle.dump(multioutput_gb_model, file)"
   ]
  },
  {
   "cell_type": "code",
   "execution_count": 63,
   "id": "f5e85951-029e-4b96-a8ad-1f519ffab634",
   "metadata": {},
   "outputs": [],
   "source": [
    "with open('linear_model.pkl','wb') as file:\n",
    "    pickle.dump(linear_model, file)"
   ]
  },
  {
   "cell_type": "code",
   "execution_count": null,
   "id": "cab41dea-7eb4-4a32-a8de-e335669af442",
   "metadata": {},
   "outputs": [],
   "source": []
  },
  {
   "cell_type": "code",
   "execution_count": null,
   "id": "a9fe833e-e6fd-4da8-887e-ceb76390cd69",
   "metadata": {},
   "outputs": [],
   "source": []
  }
 ],
 "metadata": {
  "kernelspec": {
   "display_name": "Python 3 (ipykernel)",
   "language": "python",
   "name": "python3"
  },
  "language_info": {
   "codemirror_mode": {
    "name": "ipython",
    "version": 3
   },
   "file_extension": ".py",
   "mimetype": "text/x-python",
   "name": "python",
   "nbconvert_exporter": "python",
   "pygments_lexer": "ipython3",
   "version": "3.12.2"
  }
 },
 "nbformat": 4,
 "nbformat_minor": 5
}
